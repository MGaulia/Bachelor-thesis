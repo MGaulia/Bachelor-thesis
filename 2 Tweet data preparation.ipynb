{
 "cells": [
  {
   "cell_type": "code",
   "execution_count": 18,
   "id": "7c9e6188",
   "metadata": {},
   "outputs": [],
   "source": [
    "import pandas as pd\n",
    "from tqdm import tqdm\n",
    "import json\n",
    "import urllib\n",
    "\n",
    "IN_DATA_FOLDER = 'raw_data/'\n",
    "OUT_DATA_FOLDER = 'clean_data/'\n",
    "\n",
    "def read_and_save_tweets(ticker):\n",
    "    # My collected data bout tweets contains a lot of unusable information\n",
    "    # So removing that plus some sanity check filtering\n",
    "    IN_FILENAME = IN_DATA_FOLDER + ticker + \"_raw_tweets.csv\"\n",
    "    OUT_FILENAME = OUT_DATA_FOLDER + ticker + \"_tweets.csv\"\n",
    "    df = pd.read_csv(IN_FILENAME)\n",
    "    df = df[df.language == 'en']\n",
    "    df = df.dropna(subset=['created_at'])\n",
    "    df = df[df.created_at != \"[\" + \"'\" + ticker + \"'\" + \"]\"]\n",
    "    df[\"timestamp\"] = pd.to_datetime(d.created_at, unit = 'ms')\n",
    "    df = df[['tweet', 'username', 'timestamp']]    \n",
    "    df.to_csv(OUT_FILENAME, index=False)"
   ]
  },
  {
   "cell_type": "code",
   "execution_count": 19,
   "id": "0d012027",
   "metadata": {},
   "outputs": [],
   "source": [
    "for ticker in [\"BTC\", \"ETH\", \"XRP\"]:\n",
    "    read_and_save_tweets(ticker=ticker)"
   ]
  }
 ],
 "metadata": {
  "kernelspec": {
   "display_name": "torch",
   "language": "python",
   "name": "python3"
  },
  "language_info": {
   "codemirror_mode": {
    "name": "ipython",
    "version": 3
   },
   "file_extension": ".py",
   "mimetype": "text/x-python",
   "name": "python",
   "nbconvert_exporter": "python",
   "pygments_lexer": "ipython3",
   "version": "3.8.13"
  },
  "vscode": {
   "interpreter": {
    "hash": "678790cdcacf2010aba7b81eb87e97d4f8d8a8b87d860ce48b049d46b72c3200"
   }
  }
 },
 "nbformat": 4,
 "nbformat_minor": 5
}
