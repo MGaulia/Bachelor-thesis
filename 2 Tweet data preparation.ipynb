{
 "cells": [
  {
   "cell_type": "code",
   "execution_count": 64,
   "id": "7c9e6188",
   "metadata": {},
   "outputs": [],
   "source": [
    "import pandas as pd\n",
    "from tqdm import tqdm\n",
    "import json\n",
    "import urllib\n",
    "\n",
    "def read_tweets(filename):\n",
    "    # My collected data bout tweets contains a lot of unusable information\n",
    "    # So removing that plus some sanity check filtering\n",
    "    df = pd.read_csv(filename)\n",
    "    df = df[df.language == 'en']\n",
    "    df = df[['tweet', 'username']]\n",
    "    return df"
   ]
  },
  {
   "cell_type": "code",
   "execution_count": 106,
   "id": "0d012027",
   "metadata": {},
   "outputs": [],
   "source": [
    "for filename in [\"BTC_raw_tweets.csv\", \"ETH_raw_tweets.csv\", \"XRP_raw_tweets.csv\"]:\n",
    "    read_tweets(filename).to_csv(filename[:3] + \"_tweets.csv\", index = False)"
   ]
  }
 ],
 "metadata": {
  "kernelspec": {
   "display_name": "Python 3 (ipykernel)",
   "language": "python",
   "name": "python3"
  },
  "language_info": {
   "codemirror_mode": {
    "name": "ipython",
    "version": 3
   },
   "file_extension": ".py",
   "mimetype": "text/x-python",
   "name": "python",
   "nbconvert_exporter": "python",
   "pygments_lexer": "ipython3",
   "version": "3.8.13"
  }
 },
 "nbformat": 4,
 "nbformat_minor": 5
}
