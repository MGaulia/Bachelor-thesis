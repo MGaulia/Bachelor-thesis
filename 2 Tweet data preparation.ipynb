{
 "cells": [
  {
   "cell_type": "code",
   "execution_count": 62,
   "id": "4e5479a5",
   "metadata": {},
   "outputs": [],
   "source": [
    "import pandas as pd\n",
    "from tqdm import tqdm\n",
    "import os\n",
    "\n",
    "IN_DATA_FOLDER = 'scraped_data/'\n",
    "OUT_DATA_FOLDER = 'scraped_clean_data/'\n",
    "TICKERS = [\"BTC\", \"ETH\", \"XRP\"]\n",
    "\n",
    "def clean_df(data):\n",
    "    # My collected data about tweets contains a lot of unusable information\n",
    "    # So removing that plus some sanity check filtering\n",
    "    df = data.copy()\n",
    "    df = df[df.language == 'en']\n",
    "    df[\"timestamp\"] = pd.to_datetime(df.date + \" \" + df.time)\n",
    "    df = df[['tweet', 'username', 'timestamp']]   \n",
    "    df = df.dropna()\n",
    "    df = df.reset_index(drop=True) \n",
    "    return df\n"
   ]
  },
  {
   "cell_type": "code",
   "execution_count": 63,
   "id": "f4f75a8b",
   "metadata": {},
   "outputs": [
    {
     "name": "stderr",
     "output_type": "stream",
     "text": [
      "100%|██████████| 273/273 [00:22<00:00, 12.39it/s]\n",
      " 59%|█████▉    | 112/189 [00:06<00:04, 16.13it/s]/var/folders/3n/qb9qrmdn45q_rjlp5x6g7k5c0000gn/T/ipykernel_90901/341041442.py:5: DtypeWarning: Columns (9) have mixed types. Specify dtype option on import or set low_memory=False.\n",
      "  dfs.append(pd.read_csv(IN_DATA_FOLDER + f))\n",
      "100%|██████████| 189/189 [00:10<00:00, 18.13it/s]\n",
      " 34%|███▍      | 80/236 [00:02<00:04, 37.27it/s]/var/folders/3n/qb9qrmdn45q_rjlp5x6g7k5c0000gn/T/ipykernel_90901/341041442.py:5: DtypeWarning: Columns (9) have mixed types. Specify dtype option on import or set low_memory=False.\n",
      "  dfs.append(pd.read_csv(IN_DATA_FOLDER + f))\n",
      "100%|██████████| 236/236 [00:06<00:00, 35.61it/s]\n"
     ]
    }
   ],
   "source": [
    "for ticker in TICKERS:\n",
    "    files = [f for f in os.listdir(IN_DATA_FOLDER) if f.startswith(ticker)]\n",
    "    dfs = []\n",
    "    for f in tqdm(files):\n",
    "        dfs.append(pd.read_csv(IN_DATA_FOLDER + f))\n",
    "    df = pd.concat(dfs)\n",
    "    df = clean_df(df)\n",
    "    df.to_csv(OUT_DATA_FOLDER + ticker + \".csv\", index=False)"
   ]
  },
  {
   "cell_type": "code",
   "execution_count": 64,
   "id": "72b4ac48",
   "metadata": {},
   "outputs": [],
   "source": [
    "ttt = pd.read_csv(\"/Users/mgaulia/Desktop/Bachelor-thesis.NOSYNC/scraped_clean_data/XRP.csv\")"
   ]
  },
  {
   "cell_type": "code",
   "execution_count": 65,
   "id": "7405321b",
   "metadata": {},
   "outputs": [
    {
     "data": {
      "text/plain": [
       "tweet          0\n",
       "username     832\n",
       "timestamp    832\n",
       "dtype: int64"
      ]
     },
     "execution_count": 65,
     "metadata": {},
     "output_type": "execute_result"
    }
   ],
   "source": [
    "ttt.isna().sum()"
   ]
  },
  {
   "cell_type": "code",
   "execution_count": 54,
   "id": "0d012027",
   "metadata": {},
   "outputs": [
    {
     "data": {
      "text/html": [
       "<div>\n",
       "<style scoped>\n",
       "    .dataframe tbody tr th:only-of-type {\n",
       "        vertical-align: middle;\n",
       "    }\n",
       "\n",
       "    .dataframe tbody tr th {\n",
       "        vertical-align: top;\n",
       "    }\n",
       "\n",
       "    .dataframe thead th {\n",
       "        text-align: right;\n",
       "    }\n",
       "</style>\n",
       "<table border=\"1\" class=\"dataframe\">\n",
       "  <thead>\n",
       "    <tr style=\"text-align: right;\">\n",
       "      <th></th>\n",
       "      <th>tweet</th>\n",
       "      <th>username</th>\n",
       "      <th>timestamp</th>\n",
       "    </tr>\n",
       "  </thead>\n",
       "  <tbody>\n",
       "    <tr>\n",
       "      <th>88</th>\n",
       "      <td>$XRP was the 6th most mentioned on 4chan over ...</td>\n",
       "      <td>NaN</td>\n",
       "      <td>NaN</td>\n",
       "    </tr>\n",
       "    <tr>\n",
       "      <th>89</th>\n",
       "      <td>Via  https://t.co/45jeEZLXvS</td>\n",
       "      <td>NaN</td>\n",
       "      <td>NaN</td>\n",
       "    </tr>\n",
       "    <tr>\n",
       "      <th>271</th>\n",
       "      <td>$XRP was the 17th most mentioned on twitch ove...</td>\n",
       "      <td>NaN</td>\n",
       "      <td>NaN</td>\n",
       "    </tr>\n",
       "    <tr>\n",
       "      <th>272</th>\n",
       "      <td>Via  https://t.co/45jeEZLXvS</td>\n",
       "      <td>NaN</td>\n",
       "      <td>NaN</td>\n",
       "    </tr>\n",
       "    <tr>\n",
       "      <th>282</th>\n",
       "      <td>$XRP one of the most mentioned on 4chan over t...</td>\n",
       "      <td>NaN</td>\n",
       "      <td>NaN</td>\n",
       "    </tr>\n",
       "    <tr>\n",
       "      <th>...</th>\n",
       "      <td>...</td>\n",
       "      <td>...</td>\n",
       "      <td>...</td>\n",
       "    </tr>\n",
       "    <tr>\n",
       "      <th>364017</th>\n",
       "      <td>Via  https://t.co/45jeEZLXvS</td>\n",
       "      <td>NaN</td>\n",
       "      <td>NaN</td>\n",
       "    </tr>\n",
       "    <tr>\n",
       "      <th>364082</th>\n",
       "      <td>$XRP seeing an uptick in chatter on twitch ove...</td>\n",
       "      <td>NaN</td>\n",
       "      <td>NaN</td>\n",
       "    </tr>\n",
       "    <tr>\n",
       "      <th>364083</th>\n",
       "      <td>Via  https://t.co/45jeEZLXvS</td>\n",
       "      <td>NaN</td>\n",
       "      <td>NaN</td>\n",
       "    </tr>\n",
       "    <tr>\n",
       "      <th>364223</th>\n",
       "      <td>$XRP was the 9th most mentioned on 4chan over ...</td>\n",
       "      <td>NaN</td>\n",
       "      <td>NaN</td>\n",
       "    </tr>\n",
       "    <tr>\n",
       "      <th>364224</th>\n",
       "      <td>Via  https://t.co/45jeEZLXvS</td>\n",
       "      <td>NaN</td>\n",
       "      <td>NaN</td>\n",
       "    </tr>\n",
       "  </tbody>\n",
       "</table>\n",
       "<p>832 rows × 3 columns</p>\n",
       "</div>"
      ],
      "text/plain": [
       "                                                    tweet username timestamp\n",
       "88      $XRP was the 6th most mentioned on 4chan over ...      NaN       NaN\n",
       "89                           Via  https://t.co/45jeEZLXvS      NaN       NaN\n",
       "271     $XRP was the 17th most mentioned on twitch ove...      NaN       NaN\n",
       "272                          Via  https://t.co/45jeEZLXvS      NaN       NaN\n",
       "282     $XRP one of the most mentioned on 4chan over t...      NaN       NaN\n",
       "...                                                   ...      ...       ...\n",
       "364017                       Via  https://t.co/45jeEZLXvS      NaN       NaN\n",
       "364082  $XRP seeing an uptick in chatter on twitch ove...      NaN       NaN\n",
       "364083                       Via  https://t.co/45jeEZLXvS      NaN       NaN\n",
       "364223  $XRP was the 9th most mentioned on 4chan over ...      NaN       NaN\n",
       "364224                       Via  https://t.co/45jeEZLXvS      NaN       NaN\n",
       "\n",
       "[832 rows x 3 columns]"
      ]
     },
     "execution_count": 54,
     "metadata": {},
     "output_type": "execute_result"
    }
   ],
   "source": [
    "ttt[ttt.username.isna()]"
   ]
  },
  {
   "cell_type": "code",
   "execution_count": null,
   "id": "478cf6ee",
   "metadata": {},
   "outputs": [],
   "source": [
    "df = pd.read_csv(IN_DATA_FOLDER+\"BTC_raw_tweets.csv\")"
   ]
  }
 ],
 "metadata": {
  "kernelspec": {
   "display_name": "Python 3 (ipykernel)",
   "language": "python",
   "name": "python3"
  },
  "language_info": {
   "codemirror_mode": {
    "name": "ipython",
    "version": 3
   },
   "file_extension": ".py",
   "mimetype": "text/x-python",
   "name": "python",
   "nbconvert_exporter": "python",
   "pygments_lexer": "ipython3",
   "version": "3.8.13"
  },
  "vscode": {
   "interpreter": {
    "hash": "678790cdcacf2010aba7b81eb87e97d4f8d8a8b87d860ce48b049d46b72c3200"
   }
  }
 },
 "nbformat": 4,
 "nbformat_minor": 5
}
